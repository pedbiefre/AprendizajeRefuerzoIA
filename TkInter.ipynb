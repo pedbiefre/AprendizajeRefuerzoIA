{
 "cells": [
  {
   "cell_type": "code",
   "execution_count": 8,
   "metadata": {},
   "outputs": [],
   "source": [
    "from tkinter import *\n",
    "ventana = Tk()\n",
    "ventana.title(\"Primera Ventana\")\n",
    "\n",
    "ventana.geometry('380x300')\n",
    "ventana.configure(background = 'dark turquoise')\n",
    "\n",
    "filas = Label(ventana,text=\"Filas\")\n",
    "entry_fila = Entry(ventana, width=10)\n",
    "\n",
    "entry_columna = Entry(ventana, width=10)\n",
    "columnas = Label(ventana,text=\"Columnas\")\n",
    "\n",
    "filas.grid(column=0,row=0)\n",
    "entry_fila.grid(column=3,row=0)\n",
    "columnas.grid(column=0,row=3)\n",
    "entry_columna.grid(column=3,row=3)\n",
    "\n",
    "resultado = Label(ventana,text=\"\")\n",
    "\n",
    "def clicked():\n",
    "    print(\"FILAS \"+entry_fila.get())\n",
    "    print(\"COLUMNAS \"+entry_columna.get())\n",
    "    resultado.configure(text=\"Button was clicked !!\")\n",
    "    \n",
    "\n",
    "btn = Button(window, text=\"Crear Matriz\", command=clicked)\n",
    "\n",
    "btn.grid(column=0, row=6)\n",
    "\n",
    "ventana.mainloop()\n"
   ]
  },
  {
   "cell_type": "code",
   "execution_count": null,
   "metadata": {},
   "outputs": [],
   "source": []
  }
 ],
 "metadata": {
  "language_info": {
   "codemirror_mode": {
    "name": "ipython",
    "version": 3
   },
   "file_extension": ".py",
   "mimetype": "text/x-python",
   "name": "python",
   "nbconvert_exporter": "python",
   "pygments_lexer": "ipython3",
   "version": "3.8.2-final"
  },
  "orig_nbformat": 2,
  "kernelspec": {
   "name": "python38264biteb45e1f164454beda4749fe81198b568",
   "display_name": "Python 3.8.2 64-bit"
  }
 },
 "nbformat": 4,
 "nbformat_minor": 2
}